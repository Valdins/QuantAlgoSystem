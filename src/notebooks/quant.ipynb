{
 "cells": [
  {
   "metadata": {
    "collapsed": true,
    "ExecuteTime": {
     "end_time": "2025-05-01T19:05:46.647360Z",
     "start_time": "2025-05-01T19:05:45.493312Z"
    }
   },
   "cell_type": "code",
   "source": [
    "import pandas as pd\n",
    "import yfinance as yf"
   ],
   "id": "initial_id",
   "outputs": [],
   "execution_count": 1
  },
  {
   "metadata": {
    "ExecuteTime": {
     "end_time": "2025-04-24T19:54:11.099263Z",
     "start_time": "2025-04-24T19:54:09.870746Z"
    }
   },
   "cell_type": "code",
   "source": [
    "def test_yfinance():\n",
    "    for symbol in ['AAPL', 'MSFT', 'VFINX','BTC-USD']:\n",
    "        print(\">>\", symbol, end=' ... ')\n",
    "        data = yf.download(symbol, start = '2024-01-01', end='2025-04-23')\n",
    "        print(data)\n",
    "\n",
    "test_yfinance()"
   ],
   "id": "b0f8d1045730b1c5",
   "outputs": [
    {
     "name": "stdout",
     "output_type": "stream",
     "text": [
      ">> AAPL ... YF.download() has changed argument auto_adjust default to True\n"
     ]
    },
    {
     "name": "stderr",
     "output_type": "stream",
     "text": [
      "[*********************100%***********************]  1 of 1 completed\n",
      "[*********************100%***********************]  1 of 1 completed\n"
     ]
    },
    {
     "name": "stdout",
     "output_type": "stream",
     "text": [
      "Price            Close        High         Low        Open    Volume\n",
      "Ticker            AAPL        AAPL        AAPL        AAPL      AAPL\n",
      "Date                                                                \n",
      "2024-01-02  184.532074  187.315366  182.792518  186.033057  82488700\n",
      "2024-01-03  183.150375  184.770652  182.335262  183.120556  58414500\n",
      "2024-01-04  180.824356  181.997307  179.800504  181.062914  71983600\n",
      "2024-01-05  180.098694  181.669266  179.094727  180.903872  62303300\n",
      "2024-01-08  184.452560  184.492330  180.416793  181.003268  59144500\n",
      "...                ...         ...         ...         ...       ...\n",
      "2025-04-15  202.139999  203.509995  199.800003  201.860001  51343900\n",
      "2025-04-16  194.270004  200.699997  192.369995  198.360001  59732400\n",
      "2025-04-17  196.979996  198.830002  194.419998  197.199997  51334300\n",
      "2025-04-21  193.160004  193.800003  189.809998  193.270004  46742500\n",
      "2025-04-22  199.740005  201.589996  195.970001  196.119995  52976400\n",
      "\n",
      "[327 rows x 5 columns]\n",
      ">> MSFT ... Price            Close        High         Low        Open    Volume\n",
      "Ticker            MSFT        MSFT        MSFT        MSFT      MSFT\n",
      "Date                                                                \n",
      "2024-01-02  367.380615  372.363289  363.319185  370.342474  25258600\n",
      "2024-01-03  367.113159  369.748136  365.042827  365.538123  23083500\n",
      "2024-01-04  364.478149  369.589604  363.715405  367.182474  20901500\n",
      "2024-01-05  364.290009  368.559455  363.051769  365.498531  20987000\n",
      "2024-01-08  371.164703  371.669915  365.538151  365.825401  23134000\n",
      "...                ...         ...         ...         ...       ...\n",
      "2025-04-15  385.730011  391.890015  384.160004  388.510010  17199900\n",
      "2025-04-16  371.609985  381.609985  368.000000  380.670013  21967800\n",
      "2025-04-17  367.779999  374.320007  366.890015  373.750000  20943700\n",
      "2025-04-21  359.119995  364.480011  355.670013  362.820007  20807300\n",
      "2025-04-22  366.820007  367.769989  359.859985  363.380005  19485000\n",
      "\n",
      "[327 rows x 5 columns]\n",
      ">> VFINX ... "
     ]
    },
    {
     "name": "stderr",
     "output_type": "stream",
     "text": [
      "[*********************100%***********************]  1 of 1 completed\n",
      "[*********************100%***********************]  1 of 1 completed"
     ]
    },
    {
     "name": "stdout",
     "output_type": "stream",
     "text": [
      "Price            Close        High         Low        Open Volume\n",
      "Ticker           VFINX       VFINX       VFINX       VFINX  VFINX\n",
      "Date                                                             \n",
      "2024-01-02  431.003601  431.003601  431.003601  431.003601      0\n",
      "2024-01-03  427.565948  427.565948  427.565948  427.565948      0\n",
      "2024-01-04  426.157410  426.157410  426.157410  426.157410      0\n",
      "2024-01-05  426.935547  426.935547  426.935547  426.935547      0\n",
      "2024-01-08  432.963715  432.963715  432.963715  432.963715      0\n",
      "...                ...         ...         ...         ...    ...\n",
      "2025-04-15  498.230011  498.230011  498.230011  498.230011      0\n",
      "2025-04-16  487.070007  487.070007  487.070007  487.070007      0\n",
      "2025-04-17  487.720001  487.720001  487.720001  487.720001      0\n",
      "2025-04-21  476.260010  476.260010  476.260010  476.260010      0\n",
      "2025-04-22  488.230011  488.230011  488.230011  488.230011      0\n",
      "\n",
      "[327 rows x 5 columns]\n",
      ">> BTC-USD ... Price              Close          High           Low          Open  \\\n",
      "Ticker           BTC-USD       BTC-USD       BTC-USD       BTC-USD   \n",
      "Date                                                                 \n",
      "2024-01-01  44167.332031  44175.437500  42214.976562  42280.234375   \n",
      "2024-01-02  44957.968750  45899.707031  44176.949219  44187.140625   \n",
      "2024-01-03  42848.175781  45503.242188  40813.535156  44961.601562   \n",
      "2024-01-04  44179.921875  44770.023438  42675.175781  42855.816406   \n",
      "2024-01-05  44162.691406  44353.285156  42784.718750  44192.980469   \n",
      "...                  ...           ...           ...           ...   \n",
      "2025-04-18  84450.804688  85095.046875  84298.882812  84900.187500   \n",
      "2025-04-19  85063.414062  85597.703125  84353.460938  84450.867188   \n",
      "2025-04-20  85174.304688  85306.382812  83976.843750  85066.070312   \n",
      "2025-04-21  87518.906250  88460.093750  85143.835938  85171.539062   \n",
      "2025-04-22  93441.890625  93817.382812  87084.531250  87521.875000   \n",
      "\n",
      "Price            Volume  \n",
      "Ticker          BTC-USD  \n",
      "Date                     \n",
      "2024-01-01  18426978443  \n",
      "2024-01-02  39335274536  \n",
      "2024-01-03  46342323118  \n",
      "2024-01-04  30448091210  \n",
      "2024-01-05  32336029347  \n",
      "...                 ...  \n",
      "2025-04-18  12728372364  \n",
      "2025-04-19  15259300427  \n",
      "2025-04-20  14664050812  \n",
      "2025-04-21  41396190190  \n",
      "2025-04-22  55899038456  \n",
      "\n",
      "[478 rows x 5 columns]\n"
     ]
    },
    {
     "name": "stderr",
     "output_type": "stream",
     "text": [
      "\n"
     ]
    }
   ],
   "execution_count": 8
  },
  {
   "metadata": {
    "ExecuteTime": {
     "end_time": "2025-05-01T19:56:49.235047Z",
     "start_time": "2025-05-01T19:56:48.907704Z"
    }
   },
   "cell_type": "code",
   "source": [
    "import matplotlib.pyplot as plt\n",
    "import numpy as np\n",
    "\n",
    "def calc_max_dd(cum_ret):\n",
    "    high_watermark = np.zeros(cum_ret.shape)\n",
    "    drawdown = np.zeros(cum_ret.shape)\n",
    "    drawdown_duration = np.zeros(cum_ret.shape)\n",
    "\n",
    "    for n in np.arange(1, cum_ret.shape[0]):\n",
    "        high_watermark[n] = np.maximum(high_watermark[n-1], cum_ret[n])\n",
    "        drawdown[n] = (1 + cum_ret[n]) / (1 + high_watermark[n]) - 1\n",
    "        if drawdown[n] == 0:\n",
    "            drawdown_duration[n] = 0\n",
    "        else:\n",
    "            drawdown_duration[n] = drawdown_duration[n-1] + 1\n",
    "\n",
    "    max_dd, i = np.min(drawdown), np.argmin(drawdown) # drawdown < 0 always\n",
    "    max_ddd = np.max(drawdown_duration)\n",
    "    return max_dd, max_ddd, i\n",
    "\n",
    "def calc_ige_sharpe():\n",
    "    for symbol in ['IGE']:\n",
    "        print(\">>\", symbol, end=' ... ')\n",
    "        data = yf.download(symbol, start = '2001-11-26', end='2007-11-14')\n",
    "\n",
    "        data.sort_values(by = 'Date', inplace = True)\n",
    "        daily_return = data.loc[:, 'Close'].pct_change() # daily returns\n",
    "\n",
    "        excess_return = daily_return - 0.04/252 # daily returns = strategy returns - financing cost\n",
    "\n",
    "        sharpe_ratio = np.sqrt(252) * np.mean(excess_return) / np.std(excess_return)\n",
    "\n",
    "        print(\"sharpe_ratio\", sharpe_ratio)\n",
    "\n",
    "        spy_df = yf.download('SPY', start = '2001-11-26', end='2007-11-14')\n",
    "\n",
    "        df_merge = pd.merge(data, spy_df, on = 'Date', suffixes=('_IGE', '_SPY'))\n",
    "        df_merge.sort_index(inplace = True)\n",
    "\n",
    "        daily_return = df_merge[[('Close', 'IGE'), ('Close', 'SPY')]].pct_change()\n",
    "\n",
    "        net_return = (daily_return[('Close', 'IGE')] - daily_return[('Close', 'SPY')])/2\n",
    "\n",
    "        cum_ret = np.cumprod(1+net_return) - 1\n",
    "        plt.plot(cum_ret)\n",
    "        maxDrawdown, maxDrawdownDuration, startDrawdownDay = calc_max_dd(cum_ret.values)\n",
    "        print(\"maxDrawdown\", maxDrawdown)\n",
    "        print(\"maxDrawdownDuration\",maxDrawdownDuration)\n",
    "        print(\"startDrawdownDay\",startDrawdownDay)\n",
    "\n",
    "        sharpe_ratio = np.sqrt(252) * np.mean(net_return) / np.std(net_return)\n",
    "        print(\"sharpe_ratio\", sharpe_ratio)\n",
    "\n",
    "calc_ige_sharpe()"
   ],
   "id": "78ff42261ddf576f",
   "outputs": [
    {
     "name": "stderr",
     "output_type": "stream",
     "text": [
      "[*********************100%***********************]  1 of 1 completed\n",
      "C:\\Users\\valdi\\miniconda3\\envs\\energy\\Lib\\site-packages\\numpy\\_core\\fromnumeric.py:4062: FutureWarning: The behavior of DataFrame.std with axis=None is deprecated, in a future version this will reduce over both axes and return a scalar. To retain the old behavior, pass axis=0 (or do not pass axis)\n",
      "  return std(axis=axis, dtype=dtype, out=out, ddof=ddof, **kwargs)\n",
      "[*********************100%***********************]  1 of 1 completed"
     ]
    },
    {
     "name": "stdout",
     "output_type": "stream",
     "text": [
      ">> IGE ... sharpe_ratio Ticker\n",
      "IGE    0.787168\n",
      "dtype: float64\n",
      "maxDrawdown -0.09686772789379328\n",
      "maxDrawdownDuration 498.0\n",
      "startDrawdownDay 1290\n",
      "sharpe_ratio 0.7695255237557247\n"
     ]
    },
    {
     "name": "stderr",
     "output_type": "stream",
     "text": [
      "\n"
     ]
    },
    {
     "data": {
      "text/plain": [
       "<Figure size 640x480 with 1 Axes>"
      ],
      "image/png": "[encoded data removed]"
     },
     "metadata": {},
     "output_type": "display_data"
    }
   ],
   "execution_count": 32
  },
  {
   "metadata": {},
   "cell_type": "code",
   "outputs": [],
   "execution_count": null,
   "source": "",
   "id": "ff0ce82d94205645"
  },
  {
   "metadata": {},
   "cell_type": "code",
   "outputs": [],
   "execution_count": null,
   "source": "",
   "id": "17c5458918eaf306"
  },
  {
   "metadata": {},
   "cell_type": "code",
   "outputs": [],
   "execution_count": null,
   "source": "",
   "id": "bddec38fb1e73c19"
  },
  {
   "metadata": {},
   "cell_type": "code",
   "outputs": [],
   "execution_count": null,
   "source": "",
   "id": "dfb9d35e91eb2919"
  }
 ],
 "metadata": {
  "kernelspec": {
   "display_name": "Python 3",
   "language": "python",
   "name": "python3"
  },
  "language_info": {
   "codemirror_mode": {
    "name": "ipython",
    "version": 2
   },
   "file_extension": ".py",
   "mimetype": "text/x-python",
   "name": "python",
   "nbconvert_exporter": "python",
   "pygments_lexer": "ipython2",
   "version": "2.7.6"
  }
 },
 "nbformat": 4,
 "nbformat_minor": 5
}
