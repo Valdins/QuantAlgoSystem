{
 "cells": [
  {
   "metadata": {
    "collapsed": true,
    "ExecuteTime": {
     "end_time": "2025-05-04T11:58:06.607624Z",
     "start_time": "2025-05-04T11:58:05.229205Z"
    }
   },
   "cell_type": "code",
   "source": [
    "import pandas as pd\n",
    "import yfinance as yf"
   ],
   "id": "initial_id",
   "outputs": [],
   "execution_count": 1
  },
  {
   "metadata": {
    "ExecuteTime": {
     "end_time": "2025-05-04T11:58:58.820160Z",
     "start_time": "2025-05-04T11:58:06.669480Z"
    }
   },
   "cell_type": "code",
   "source": [
    "def test_yfinance():\n",
    "    for symbol in ['AAPL', 'MSFT', 'VFINX','BTC-USD']:\n",
    "        print(\">>\", symbol, end=' ... ')\n",
    "        data = yf.download(symbol, start = '2024-01-01', end='2025-04-23')\n",
    "        print(data)\n",
    "\n",
    "test_yfinance()"
   ],
   "id": "b0f8d1045730b1c5",
   "outputs": [
    {
     "name": "stdout",
     "output_type": "stream",
     "text": [
      ">> AAPL ... YF.download() has changed argument auto_adjust default to True\n"
     ]
    },
    {
     "name": "stderr",
     "output_type": "stream",
     "text": [
      "[*********************100%***********************]  1 of 1 completed\n"
     ]
    },
    {
     "name": "stdout",
     "output_type": "stream",
     "text": [
      "Price            Close        High         Low        Open    Volume\n",
      "Ticker            AAPL        AAPL        AAPL        AAPL      AAPL\n",
      "Date                                                                \n",
      "2024-01-02  184.532089  187.315382  182.792533  186.033072  82488700\n",
      "2024-01-03  183.150391  184.770668  182.335277  183.120571  58414500\n",
      "2024-01-04  180.824371  181.997322  179.800520  181.062929  71983600\n",
      "2024-01-05  180.098694  181.669266  179.094727  180.903872  62303300\n",
      "2024-01-08  184.452560  184.492330  180.416793  181.003268  59144500\n",
      "...                ...         ...         ...         ...       ...\n",
      "2025-04-15  202.139999  203.509995  199.800003  201.860001  51343900\n",
      "2025-04-16  194.270004  200.699997  192.369995  198.360001  59732400\n",
      "2025-04-17  196.979996  198.830002  194.419998  197.199997  51334300\n",
      "2025-04-21  193.160004  193.800003  189.809998  193.270004  46742500\n",
      "2025-04-22  199.740005  201.589996  195.970001  196.119995  52976400\n",
      "\n",
      "[327 rows x 5 columns]\n",
      ">> MSFT ... "
     ]
    },
    {
     "name": "stderr",
     "output_type": "stream",
     "text": [
      "[*********************100%***********************]  1 of 1 completed\n"
     ]
    },
    {
     "name": "stdout",
     "output_type": "stream",
     "text": [
      "Price            Close        High         Low        Open    Volume\n",
      "Ticker            MSFT        MSFT        MSFT        MSFT      MSFT\n",
      "Date                                                                \n",
      "2024-01-02  367.380585  372.363258  363.319154  370.342443  25258600\n",
      "2024-01-03  367.113159  369.748136  365.042827  365.538123  23083500\n",
      "2024-01-04  364.478180  369.589635  363.715435  367.182505  20901500\n",
      "2024-01-05  364.289978  368.559424  363.051739  365.498501  20987000\n",
      "2024-01-08  371.164673  371.669884  365.538121  365.825371  23134000\n",
      "...                ...         ...         ...         ...       ...\n",
      "2025-04-15  385.730011  391.890015  384.160004  388.510010  17199900\n",
      "2025-04-16  371.609985  381.609985  368.000000  380.670013  21967800\n",
      "2025-04-17  367.779999  374.320007  366.890015  373.750000  20943700\n",
      "2025-04-21  359.119995  364.480011  355.670013  362.820007  20807300\n",
      "2025-04-22  366.820007  367.769989  359.859985  363.380005  19485000\n",
      "\n",
      "[327 rows x 5 columns]\n",
      ">> VFINX ... "
     ]
    },
    {
     "name": "stderr",
     "output_type": "stream",
     "text": [
      "[*********************100%***********************]  1 of 1 completed\n"
     ]
    },
    {
     "name": "stdout",
     "output_type": "stream",
     "text": [
      "Price            Close        High         Low        Open Volume\n",
      "Ticker           VFINX       VFINX       VFINX       VFINX  VFINX\n",
      "Date                                                             \n",
      "2024-01-02  431.003601  431.003601  431.003601  431.003601      0\n",
      "2024-01-03  427.565948  427.565948  427.565948  427.565948      0\n",
      "2024-01-04  426.157410  426.157410  426.157410  426.157410      0\n",
      "2024-01-05  426.935577  426.935577  426.935577  426.935577      0\n",
      "2024-01-08  432.963715  432.963715  432.963715  432.963715      0\n",
      "...                ...         ...         ...         ...    ...\n",
      "2025-04-15  498.230011  498.230011  498.230011  498.230011      0\n",
      "2025-04-16  487.070007  487.070007  487.070007  487.070007      0\n",
      "2025-04-17  487.720001  487.720001  487.720001  487.720001      0\n",
      "2025-04-21  476.260010  476.260010  476.260010  476.260010      0\n",
      "2025-04-22  488.230011  488.230011  488.230011  488.230011      0\n",
      "\n",
      "[327 rows x 5 columns]\n",
      ">> BTC-USD ... "
     ]
    },
    {
     "name": "stderr",
     "output_type": "stream",
     "text": [
      "[*********************100%***********************]  1 of 1 completed"
     ]
    },
    {
     "name": "stdout",
     "output_type": "stream",
     "text": [
      "Price              Close          High           Low          Open  \\\n",
      "Ticker           BTC-USD       BTC-USD       BTC-USD       BTC-USD   \n",
      "Date                                                                 \n",
      "2024-01-01  44167.332031  44175.437500  42214.976562  42280.234375   \n",
      "2024-01-02  44957.968750  45899.707031  44176.949219  44187.140625   \n",
      "2024-01-03  42848.175781  45503.242188  40813.535156  44961.601562   \n",
      "2024-01-04  44179.921875  44770.023438  42675.175781  42855.816406   \n",
      "2024-01-05  44162.691406  44353.285156  42784.718750  44192.980469   \n",
      "...                  ...           ...           ...           ...   \n",
      "2025-04-18  84450.804688  85095.046875  84298.882812  84900.187500   \n",
      "2025-04-19  85063.414062  85597.703125  84353.460938  84450.867188   \n",
      "2025-04-20  85174.304688  85306.382812  83976.843750  85066.070312   \n",
      "2025-04-21  87518.906250  88460.093750  85143.835938  85171.539062   \n",
      "2025-04-22  93441.890625  93817.382812  87084.531250  87521.875000   \n",
      "\n",
      "Price            Volume  \n",
      "Ticker          BTC-USD  \n",
      "Date                     \n",
      "2024-01-01  18426978443  \n",
      "2024-01-02  39335274536  \n",
      "2024-01-03  46342323118  \n",
      "2024-01-04  30448091210  \n",
      "2024-01-05  32336029347  \n",
      "...                 ...  \n",
      "2025-04-18  12728372364  \n",
      "2025-04-19  15259300427  \n",
      "2025-04-20  14664050812  \n",
      "2025-04-21  41396190190  \n",
      "2025-04-22  55899038456  \n",
      "\n",
      "[478 rows x 5 columns]\n"
     ]
    },
    {
     "name": "stderr",
     "output_type": "stream",
     "text": [
      "\n"
     ]
    }
   ],
   "execution_count": 2
  },
  {
   "metadata": {
    "ExecuteTime": {
     "end_time": "2025-05-04T12:01:59.208287Z",
     "start_time": "2025-05-04T12:01:53.497355Z"
    }
   },
   "cell_type": "code",
   "source": [
    "import matplotlib.pyplot as plt\n",
    "import numpy as np\n",
    "\n",
    "def calc_max_dd(cum_ret):\n",
    "    high_watermark = np.zeros(cum_ret.shape)\n",
    "    drawdown = np.zeros(cum_ret.shape)\n",
    "    drawdown_duration = np.zeros(cum_ret.shape)\n",
    "\n",
    "    for n in np.arange(1, cum_ret.shape[0]):\n",
    "        high_watermark[n] = np.maximum(high_watermark[n-1], cum_ret[n])\n",
    "        drawdown[n] = (1 + cum_ret[n]) / (1 + high_watermark[n]) - 1\n",
    "        if drawdown[n] == 0:\n",
    "            drawdown_duration[n] = 0\n",
    "        else:\n",
    "            drawdown_duration[n] = drawdown_duration[n-1] + 1\n",
    "\n",
    "    max_dd, i = np.min(drawdown), np.argmin(drawdown) # drawdown < 0 always\n",
    "    max_ddd = np.max(drawdown_duration)\n",
    "    return max_dd, max_ddd, i\n",
    "\n",
    "def calc_ige_sharpe():\n",
    "    for symbol in ['IGE']:\n",
    "        print(\">>\", symbol, end=' ... ')\n",
    "        data = yf.download(symbol, start = '2001-11-26', end='2007-11-14')\n",
    "\n",
    "        data.sort_values(by = 'Date', inplace = True)\n",
    "        daily_return = data.loc[:, 'Close'].pct_change() # daily returns\n",
    "\n",
    "        excess_return = daily_return - 0.04/252 # daily returns = strategy returns - financing cost\n",
    "\n",
    "        sharpe_ratio = np.sqrt(252) * np.mean(excess_return) / np.std(excess_return)\n",
    "\n",
    "        print(\"sharpe_ratio\", sharpe_ratio)\n",
    "\n",
    "        spy_df = yf.download('SPY', start = '2001-11-26', end='2007-11-14')\n",
    "\n",
    "        df_merge = pd.merge(data, spy_df, on = 'Date', suffixes=('_IGE', '_SPY'))\n",
    "        df_merge.sort_index(inplace = True)\n",
    "\n",
    "        daily_return = df_merge[[('Close', 'IGE'), ('Close', 'SPY')]].pct_change()\n",
    "\n",
    "        net_return = (daily_return[('Close', 'IGE')] - daily_return[('Close', 'SPY')])/2\n",
    "\n",
    "        cum_ret = np.cumprod(1+net_return) - 1\n",
    "        plt.plot(cum_ret)\n",
    "        maxDrawdown, maxDrawdownDuration, startDrawdownDay = calc_max_dd(cum_ret.values)\n",
    "        print(\"maxDrawdown\", maxDrawdown)\n",
    "        print(\"maxDrawdownDuration\",maxDrawdownDuration)\n",
    "        print(\"startDrawdownDay\",startDrawdownDay)\n",
    "\n",
    "        sharpe_ratio = np.sqrt(252) * np.mean(net_return) / np.std(net_return)\n",
    "        print(\"sharpe_ratio\", sharpe_ratio)\n",
    "\n",
    "calc_ige_sharpe()"
   ],
   "id": "78ff42261ddf576f",
   "outputs": [
    {
     "name": "stdout",
     "output_type": "stream",
     "text": [
      ">> IGE ... "
     ]
    },
    {
     "name": "stderr",
     "output_type": "stream",
     "text": [
      "[*********************100%***********************]  1 of 1 completed\n",
      "C:\\Users\\valdi\\miniconda3\\envs\\energy\\Lib\\site-packages\\numpy\\_core\\fromnumeric.py:4062: FutureWarning: The behavior of DataFrame.std with axis=None is deprecated, in a future version this will reduce over both axes and return a scalar. To retain the old behavior, pass axis=0 (or do not pass axis)\n",
      "  return std(axis=axis, dtype=dtype, out=out, ddof=ddof, **kwargs)\n",
      "[*********************100%***********************]  1 of 1 completed\n"
     ]
    },
    {
     "name": "stdout",
     "output_type": "stream",
     "text": [
      "sharpe_ratio Ticker\n",
      "IGE    0.787167\n",
      "dtype: float64\n",
      "maxDrawdown -0.09686753026278472\n",
      "maxDrawdownDuration 498.0\n",
      "startDrawdownDay 1290\n",
      "sharpe_ratio 0.7695266368462429\n"
     ]
    },
    {
     "data": {
      "text/plain": [
       "<Figure size 640x480 with 1 Axes>"
      ],
      "image/png": "[encoded data removed]"
     },
     "metadata": {},
     "output_type": "display_data"
    }
   ],
   "execution_count": 3
  },
  {
   "metadata": {
    "ExecuteTime": {
     "end_time": "2025-05-04T12:16:41.751098Z",
     "start_time": "2025-05-04T12:16:41.676346Z"
    }
   },
   "cell_type": "code",
   "source": [
    "import numpy as np\n",
    "import pandas as pd\n",
    "import matplotlib.pyplot as plt\n",
    "import statsmodels.api as sm\n",
    "\n",
    "gld_df = yf.download('GLD', start = '2001-11-26', end='2007-11-14')\n",
    "gdx_df = yf.download('GDX', start = '2001-11-26', end='2007-11-14')\n",
    "\n",
    "gold_df = pd.merge(gld_df, gdx_df, on = 'Date', suffixes=('_GLD', '_GDX'))\n",
    "#gold_df.set_index('Date', inplace = True)\n",
    "gold_df.sort_index(inplace = True)\n"
   ],
   "id": "ff0ce82d94205645",
   "outputs": [
    {
     "name": "stderr",
     "output_type": "stream",
     "text": [
      "[*********************100%***********************]  1 of 1 completed\n",
      "[*********************100%***********************]  1 of 1 completed\n"
     ]
    }
   ],
   "execution_count": 7
  },
  {
   "metadata": {
    "ExecuteTime": {
     "end_time": "2025-05-04T12:18:36.233392Z",
     "start_time": "2025-05-04T12:18:36.229118Z"
    }
   },
   "cell_type": "code",
   "source": [
    "train_set = np.arange(0, 252)\n",
    "test_set = np.arange(train_set.shape[0], gold_df.shape[0])"
   ],
   "id": "17c5458918eaf306",
   "outputs": [],
   "execution_count": 9
  },
  {
   "metadata": {
    "ExecuteTime": {
     "end_time": "2025-05-04T12:27:44.479537Z",
     "start_time": "2025-05-04T12:27:44.460010Z"
    }
   },
   "cell_type": "code",
   "source": [
    "model = sm.OLS(gold_df.loc[:, ('Close', 'GLD')].iloc[train_set], gold_df.loc[:, ('Close', 'GDX')].iloc[train_set])\n",
    "results = model.fit()"
   ],
   "id": "bddec38fb1e73c19",
   "outputs": [],
   "execution_count": 12
  },
  {
   "metadata": {
    "ExecuteTime": {
     "end_time": "2025-05-04T12:51:08.739445Z",
     "start_time": "2025-05-04T12:51:08.450310Z"
    }
   },
   "cell_type": "code",
   "source": [
    "hedge_ratio = results.params\n",
    "print(\"HedgeRatio: \", hedge_ratio)\n",
    "\n",
    "spread = gold_df.loc[:, ('Close', 'GLD')] - hedge_ratio[0] * gold_df.loc[:, ('Close', 'GDX')]\n",
    "print(\"spread: \", spread)\n",
    "\n",
    "plt.plot(spread.iloc[train_set])\n",
    "plt.plot(spread.iloc[test_set])\n",
    "\n",
    "spread_mean = np.mean(spread.iloc[train_set])\n",
    "print(\"spread_mean: \", spread_mean)\n",
    "\n",
    "spread_std = np.std(spread.iloc[train_set])\n",
    "print(\"spread_std: \", spread_std)\n",
    "\n",
    "gold_df['zscore'] = (spread-spread_mean) / spread_std\n",
    "\n",
    "gold_df['positions_gld_long'] = 0\n",
    "gold_df['positions_gdx_long'] = 0\n",
    "gold_df['positions_gld_short'] = 0\n",
    "gold_df['positions_gld_short'] = 0"
   ],
   "id": "dfb9d35e91eb2919",
   "outputs": [
    {
     "name": "stdout",
     "output_type": "stream",
     "text": [
      "HedgeRatio:  (Close, GDX)    1.902921\n",
      "dtype: float64\n",
      "spread:  Date\n",
      "2006-05-22    4.741558\n",
      "2006-05-23    4.634139\n",
      "2006-05-24    4.656445\n",
      "2006-05-25    2.368571\n",
      "2006-05-26    2.394426\n",
      "                ...   \n",
      "2007-11-07   -1.822504\n",
      "2007-11-08   -1.620417\n",
      "2007-11-09    0.107711\n",
      "2007-11-12    2.133155\n",
      "2007-11-13    1.501261\n",
      "Length: 374, dtype: float64\n",
      "spread_mean:  0.0530527326801233\n",
      "spread_std:  1.9661312161917806\n"
     ]
    },
    {
     "name": "stderr",
     "output_type": "stream",
     "text": [
      "C:\\Users\\valdi\\AppData\\Local\\Temp\\ipykernel_21332\\309936809.py:4: FutureWarning: Series.__getitem__ treating keys as positions is deprecated. In a future version, integer keys will always be treated as labels (consistent with DataFrame behavior). To access a value by position, use `ser.iloc[pos]`\n",
      "  spread = gold_df.loc[:, ('Close', 'GLD')] - hedge_ratio[0] * gold_df.loc[:, ('Close', 'GDX')]\n"
     ]
    },
    {
     "ename": "ValueError",
     "evalue": "Must have equal len keys and value when setting with an iterable",
     "output_type": "error",
     "traceback": [
      "\u001B[1;31m---------------------------------------------------------------------------\u001B[0m",
      "\u001B[1;31mValueError\u001B[0m                                Traceback (most recent call last)",
      "Cell \u001B[1;32mIn[17], line 23\u001B[0m\n\u001B[0;32m     20\u001B[0m gold_df[\u001B[38;5;124m'\u001B[39m\u001B[38;5;124mpositions_gld_short\u001B[39m\u001B[38;5;124m'\u001B[39m] \u001B[38;5;241m=\u001B[39m \u001B[38;5;241m0\u001B[39m\n\u001B[0;32m     21\u001B[0m gold_df[\u001B[38;5;124m'\u001B[39m\u001B[38;5;124mpositions_gld_short\u001B[39m\u001B[38;5;124m'\u001B[39m] \u001B[38;5;241m=\u001B[39m \u001B[38;5;241m0\u001B[39m\n\u001B[1;32m---> 23\u001B[0m gold_df\u001B[38;5;241m.\u001B[39mloc[gold_df\u001B[38;5;241m.\u001B[39mzscore \u001B[38;5;241m>\u001B[39m\u001B[38;5;241m=\u001B[39m \u001B[38;5;241m2\u001B[39m, (\u001B[38;5;124m'\u001B[39m\u001B[38;5;124mpositions_gld_short\u001B[39m\u001B[38;5;124m'\u001B[39m, \u001B[38;5;124m'\u001B[39m\u001B[38;5;124mpositions_gdx_short\u001B[39m\u001B[38;5;124m'\u001B[39m)] \u001B[38;5;241m=\u001B[39m [\u001B[38;5;241m-\u001B[39m\u001B[38;5;241m1\u001B[39m, \u001B[38;5;241m1\u001B[39m] \u001B[38;5;66;03m# Short Spread\u001B[39;00m\n\u001B[0;32m     24\u001B[0m gold_df\u001B[38;5;241m.\u001B[39mloc[gold_df\u001B[38;5;241m.\u001B[39mzscore \u001B[38;5;241m<\u001B[39m\u001B[38;5;241m=\u001B[39m \u001B[38;5;241m-\u001B[39m\u001B[38;5;241m2\u001B[39m, (\u001B[38;5;124m'\u001B[39m\u001B[38;5;124mpositions_gld_long\u001B[39m\u001B[38;5;124m'\u001B[39m, \u001B[38;5;124m'\u001B[39m\u001B[38;5;124mpositions_gdx_long\u001B[39m\u001B[38;5;124m'\u001B[39m)] \u001B[38;5;241m=\u001B[39m [\u001B[38;5;241m1\u001B[39m, \u001B[38;5;241m-\u001B[39m\u001B[38;5;241m1\u001B[39m] \u001B[38;5;66;03m# Buy Spread\u001B[39;00m\n\u001B[0;32m     25\u001B[0m gold_df\u001B[38;5;241m.\u001B[39mloc[gold_df\u001B[38;5;241m.\u001B[39mzscore \u001B[38;5;241m<\u001B[39m\u001B[38;5;241m=\u001B[39m \u001B[38;5;241m1\u001B[39m, (\u001B[38;5;124m'\u001B[39m\u001B[38;5;124mpositions_gld_short\u001B[39m\u001B[38;5;124m'\u001B[39m, \u001B[38;5;124m'\u001B[39m\u001B[38;5;124mpositions_gdx_short\u001B[39m\u001B[38;5;124m'\u001B[39m)] \u001B[38;5;241m=\u001B[39m \u001B[38;5;241m0\u001B[39m \u001B[38;5;66;03m# Exit Short Spread\u001B[39;00m\n",
      "File \u001B[1;32m~\\miniconda3\\envs\\energy\\Lib\\site-packages\\pandas\\core\\indexing.py:911\u001B[0m, in \u001B[0;36m_LocationIndexer.__setitem__\u001B[1;34m(self, key, value)\u001B[0m\n\u001B[0;32m    908\u001B[0m \u001B[38;5;28mself\u001B[39m\u001B[38;5;241m.\u001B[39m_has_valid_setitem_indexer(key)\n\u001B[0;32m    910\u001B[0m iloc \u001B[38;5;241m=\u001B[39m \u001B[38;5;28mself\u001B[39m \u001B[38;5;28;01mif\u001B[39;00m \u001B[38;5;28mself\u001B[39m\u001B[38;5;241m.\u001B[39mname \u001B[38;5;241m==\u001B[39m \u001B[38;5;124m\"\u001B[39m\u001B[38;5;124miloc\u001B[39m\u001B[38;5;124m\"\u001B[39m \u001B[38;5;28;01melse\u001B[39;00m \u001B[38;5;28mself\u001B[39m\u001B[38;5;241m.\u001B[39mobj\u001B[38;5;241m.\u001B[39miloc\n\u001B[1;32m--> 911\u001B[0m iloc\u001B[38;5;241m.\u001B[39m_setitem_with_indexer(indexer, value, \u001B[38;5;28mself\u001B[39m\u001B[38;5;241m.\u001B[39mname)\n",
      "File \u001B[1;32m~\\miniconda3\\envs\\energy\\Lib\\site-packages\\pandas\\core\\indexing.py:1942\u001B[0m, in \u001B[0;36m_iLocIndexer._setitem_with_indexer\u001B[1;34m(self, indexer, value, name)\u001B[0m\n\u001B[0;32m   1939\u001B[0m \u001B[38;5;66;03m# align and set the values\u001B[39;00m\n\u001B[0;32m   1940\u001B[0m \u001B[38;5;28;01mif\u001B[39;00m take_split_path:\n\u001B[0;32m   1941\u001B[0m     \u001B[38;5;66;03m# We have to operate column-wise\u001B[39;00m\n\u001B[1;32m-> 1942\u001B[0m     \u001B[38;5;28mself\u001B[39m\u001B[38;5;241m.\u001B[39m_setitem_with_indexer_split_path(indexer, value, name)\n\u001B[0;32m   1943\u001B[0m \u001B[38;5;28;01melse\u001B[39;00m:\n\u001B[0;32m   1944\u001B[0m     \u001B[38;5;28mself\u001B[39m\u001B[38;5;241m.\u001B[39m_setitem_single_block(indexer, value, name)\n",
      "File \u001B[1;32m~\\miniconda3\\envs\\energy\\Lib\\site-packages\\pandas\\core\\indexing.py:1998\u001B[0m, in \u001B[0;36m_iLocIndexer._setitem_with_indexer_split_path\u001B[1;34m(self, indexer, value, name)\u001B[0m\n\u001B[0;32m   1993\u001B[0m     \u001B[38;5;28;01mif\u001B[39;00m \u001B[38;5;28mlen\u001B[39m(value) \u001B[38;5;241m==\u001B[39m \u001B[38;5;241m1\u001B[39m \u001B[38;5;129;01mand\u001B[39;00m \u001B[38;5;129;01mnot\u001B[39;00m is_integer(info_axis):\n\u001B[0;32m   1994\u001B[0m         \u001B[38;5;66;03m# This is a case like df.iloc[:3, [1]] = [0]\u001B[39;00m\n\u001B[0;32m   1995\u001B[0m         \u001B[38;5;66;03m#  where we treat as df.iloc[:3, 1] = 0\u001B[39;00m\n\u001B[0;32m   1996\u001B[0m         \u001B[38;5;28;01mreturn\u001B[39;00m \u001B[38;5;28mself\u001B[39m\u001B[38;5;241m.\u001B[39m_setitem_with_indexer((pi, info_axis[\u001B[38;5;241m0\u001B[39m]), value[\u001B[38;5;241m0\u001B[39m])\n\u001B[1;32m-> 1998\u001B[0m     \u001B[38;5;28;01mraise\u001B[39;00m \u001B[38;5;167;01mValueError\u001B[39;00m(\n\u001B[0;32m   1999\u001B[0m         \u001B[38;5;124m\"\u001B[39m\u001B[38;5;124mMust have equal len keys and value \u001B[39m\u001B[38;5;124m\"\u001B[39m\n\u001B[0;32m   2000\u001B[0m         \u001B[38;5;124m\"\u001B[39m\u001B[38;5;124mwhen setting with an iterable\u001B[39m\u001B[38;5;124m\"\u001B[39m\n\u001B[0;32m   2001\u001B[0m     )\n\u001B[0;32m   2003\u001B[0m \u001B[38;5;28;01melif\u001B[39;00m lplane_indexer \u001B[38;5;241m==\u001B[39m \u001B[38;5;241m0\u001B[39m \u001B[38;5;129;01mand\u001B[39;00m \u001B[38;5;28mlen\u001B[39m(value) \u001B[38;5;241m==\u001B[39m \u001B[38;5;28mlen\u001B[39m(\u001B[38;5;28mself\u001B[39m\u001B[38;5;241m.\u001B[39mobj\u001B[38;5;241m.\u001B[39mindex):\n\u001B[0;32m   2004\u001B[0m     \u001B[38;5;66;03m# We get here in one case via .loc with a all-False mask\u001B[39;00m\n\u001B[0;32m   2005\u001B[0m     \u001B[38;5;28;01mpass\u001B[39;00m\n",
      "\u001B[1;31mValueError\u001B[0m: Must have equal len keys and value when setting with an iterable"
     ]
    },
    {
     "data": {
      "text/plain": [
       "<Figure size 640x480 with 1 Axes>"
      ],
      "image/png": "[encoded data removed]"
     },
     "metadata": {},
     "output_type": "display_data"
    }
   ],
   "execution_count": 17
  },
  {
   "metadata": {
    "ExecuteTime": {
     "end_time": "2025-05-04T12:51:43.825914Z",
     "start_time": "2025-05-04T12:51:43.807249Z"
    }
   },
   "cell_type": "code",
   "source": "gold_df",
   "id": "5d68a2632c24f2ec",
   "outputs": [
    {
     "data": {
      "text/plain": [
       "Price           Close       High        Low       Open    Volume      Close  \\\n",
       "Ticker            GLD        GLD        GLD        GLD       GLD        GDX   \n",
       "Date                                                                          \n",
       "2006-05-22  65.300003  65.419998  63.799999  64.419998  11977700  31.823935   \n",
       "2006-05-23  66.379997  67.160004  65.910004  65.989998  10509700  32.447929   \n",
       "2006-05-24  64.059998  65.160004  63.220001  64.830002  11065600  31.217030   \n",
       "2006-05-25  64.699997  64.760002  63.759998  64.120003   6505400  32.755650   \n",
       "2006-05-26  65.099998  65.099998  63.750000  65.010002   5265900  32.952267   \n",
       "...               ...        ...        ...        ...       ...        ...   \n",
       "2007-11-07  82.239998  83.239998  81.330002  83.209999  16512900  44.175499   \n",
       "2007-11-08  82.230003  83.629997  81.730003  82.430000  17356200  44.064049   \n",
       "2007-11-09  82.180000  82.629997  81.220001  81.790001   6947800  43.129627   \n",
       "2007-11-12  78.300003  80.440002  78.250000  80.410004  17297000  40.026272   \n",
       "2007-11-13  79.120003  79.930000  77.860001  79.400002  11438200  40.789253   \n",
       "\n",
       "Price            High        Low       Open   Volume    zscore  \\\n",
       "Ticker            GDX        GDX        GDX      GDX             \n",
       "Date                                                             \n",
       "2006-05-22  31.875223  30.661416  31.217032   197100  2.384635   \n",
       "2006-05-23  33.524970  32.268424  32.268424   620900  2.330000   \n",
       "2006-05-24  32.114561  30.661413  31.738454   638600  2.341345   \n",
       "2006-05-25  32.755650  31.610227  31.781187   367000  1.177703   \n",
       "2006-05-26  33.114679  32.285529  33.114679   269400  1.190853   \n",
       "...               ...        ...        ...      ...       ...   \n",
       "2007-11-07  46.155811  44.149782  46.155811  3870500 -0.953932   \n",
       "2007-11-08  45.135645  42.803850  44.149775  3504100 -0.851149   \n",
       "2007-11-09  43.944038  42.872441  43.935467  1813000  0.027800   \n",
       "2007-11-12  41.972291  39.837673  41.972291  3908400  1.057967   \n",
       "2007-11-13  41.166454  40.240593  40.240593  1919300  0.736577   \n",
       "\n",
       "Price      positions_gld_long positions_gdx_long positions_gld_short  \\\n",
       "Ticker                                                                 \n",
       "Date                                                                   \n",
       "2006-05-22                  0                  0                   0   \n",
       "2006-05-23                  0                  0                   0   \n",
       "2006-05-24                  0                  0                   0   \n",
       "2006-05-25                  0                  0                   0   \n",
       "2006-05-26                  0                  0                   0   \n",
       "...                       ...                ...                 ...   \n",
       "2007-11-07                  0                  0                   0   \n",
       "2007-11-08                  0                  0                   0   \n",
       "2007-11-09                  0                  0                   0   \n",
       "2007-11-12                  0                  0                   0   \n",
       "2007-11-13                  0                  0                   0   \n",
       "\n",
       "Price                           \n",
       "Ticker     positions_gdx_short  \n",
       "Date                            \n",
       "2006-05-22                   0  \n",
       "2006-05-23                   0  \n",
       "2006-05-24                   0  \n",
       "2006-05-25                   0  \n",
       "2006-05-26                   0  \n",
       "...                        ...  \n",
       "2007-11-07                   0  \n",
       "2007-11-08                   0  \n",
       "2007-11-09                   0  \n",
       "2007-11-12                   0  \n",
       "2007-11-13                   0  \n",
       "\n",
       "[374 rows x 15 columns]"
      ],
      "text/html": [
       "<div>\n",
       "<style scoped>\n",
       "    .dataframe tbody tr th:only-of-type {\n",
       "        vertical-align: middle;\n",
       "    }\n",
       "\n",
       "    .dataframe tbody tr th {\n",
       "        vertical-align: top;\n",
       "    }\n",
       "\n",
       "    .dataframe thead tr th {\n",
       "        text-align: left;\n",
       "    }\n",
       "\n",
       "    .dataframe thead tr:last-of-type th {\n",
       "        text-align: right;\n",
       "    }\n",
       "</style>\n",
       "<table border=\"1\" class=\"dataframe\">\n",
       "  <thead>\n",
       "    <tr>\n",
       "      <th>Price</th>\n",
       "      <th>Close</th>\n",
       "      <th>High</th>\n",
       "      <th>Low</th>\n",
       "      <th>Open</th>\n",
       "      <th>Volume</th>\n",
       "      <th>Close</th>\n",
       "      <th>High</th>\n",
       "      <th>Low</th>\n",
       "      <th>Open</th>\n",
       "      <th>Volume</th>\n",
       "      <th>zscore</th>\n",
       "      <th>positions_gld_long</th>\n",
       "      <th>positions_gdx_long</th>\n",
       "      <th colspan=\"2\" halign=\"left\">positions_gld_short</th>\n",
       "    </tr>\n",
       "    <tr>\n",
       "      <th>Ticker</th>\n",
       "      <th>GLD</th>\n",
       "      <th>GLD</th>\n",
       "      <th>GLD</th>\n",
       "      <th>GLD</th>\n",
       "      <th>GLD</th>\n",
       "      <th>GDX</th>\n",
       "      <th>GDX</th>\n",
       "      <th>GDX</th>\n",
       "      <th>GDX</th>\n",
       "      <th>GDX</th>\n",
       "      <th></th>\n",
       "      <th></th>\n",
       "      <th></th>\n",
       "      <th></th>\n",
       "      <th>positions_gdx_short</th>\n",
       "    </tr>\n",
       "    <tr>\n",
       "      <th>Date</th>\n",
       "      <th></th>\n",
       "      <th></th>\n",
       "      <th></th>\n",
       "      <th></th>\n",
       "      <th></th>\n",
       "      <th></th>\n",
       "      <th></th>\n",
       "      <th></th>\n",
       "      <th></th>\n",
       "      <th></th>\n",
       "      <th></th>\n",
       "      <th></th>\n",
       "      <th></th>\n",
       "      <th></th>\n",
       "      <th></th>\n",
       "    </tr>\n",
       "  </thead>\n",
       "  <tbody>\n",
       "    <tr>\n",
       "      <th>2006-05-22</th>\n",
       "      <td>65.300003</td>\n",
       "      <td>65.419998</td>\n",
       "      <td>63.799999</td>\n",
       "      <td>64.419998</td>\n",
       "      <td>11977700</td>\n",
       "      <td>31.823935</td>\n",
       "      <td>31.875223</td>\n",
       "      <td>30.661416</td>\n",
       "      <td>31.217032</td>\n",
       "      <td>197100</td>\n",
       "      <td>2.384635</td>\n",
       "      <td>0</td>\n",
       "      <td>0</td>\n",
       "      <td>0</td>\n",
       "      <td>0</td>\n",
       "    </tr>\n",
       "    <tr>\n",
       "      <th>2006-05-23</th>\n",
       "      <td>66.379997</td>\n",
       "      <td>67.160004</td>\n",
       "      <td>65.910004</td>\n",
       "      <td>65.989998</td>\n",
       "      <td>10509700</td>\n",
       "      <td>32.447929</td>\n",
       "      <td>33.524970</td>\n",
       "      <td>32.268424</td>\n",
       "      <td>32.268424</td>\n",
       "      <td>620900</td>\n",
       "      <td>2.330000</td>\n",
       "      <td>0</td>\n",
       "      <td>0</td>\n",
       "      <td>0</td>\n",
       "      <td>0</td>\n",
       "    </tr>\n",
       "    <tr>\n",
       "      <th>2006-05-24</th>\n",
       "      <td>64.059998</td>\n",
       "      <td>65.160004</td>\n",
       "      <td>63.220001</td>\n",
       "      <td>64.830002</td>\n",
       "      <td>11065600</td>\n",
       "      <td>31.217030</td>\n",
       "      <td>32.114561</td>\n",
       "      <td>30.661413</td>\n",
       "      <td>31.738454</td>\n",
       "      <td>638600</td>\n",
       "      <td>2.341345</td>\n",
       "      <td>0</td>\n",
       "      <td>0</td>\n",
       "      <td>0</td>\n",
       "      <td>0</td>\n",
       "    </tr>\n",
       "    <tr>\n",
       "      <th>2006-05-25</th>\n",
       "      <td>64.699997</td>\n",
       "      <td>64.760002</td>\n",
       "      <td>63.759998</td>\n",
       "      <td>64.120003</td>\n",
       "      <td>6505400</td>\n",
       "      <td>32.755650</td>\n",
       "      <td>32.755650</td>\n",
       "      <td>31.610227</td>\n",
       "      <td>31.781187</td>\n",
       "      <td>367000</td>\n",
       "      <td>1.177703</td>\n",
       "      <td>0</td>\n",
       "      <td>0</td>\n",
       "      <td>0</td>\n",
       "      <td>0</td>\n",
       "    </tr>\n",
       "    <tr>\n",
       "      <th>2006-05-26</th>\n",
       "      <td>65.099998</td>\n",
       "      <td>65.099998</td>\n",
       "      <td>63.750000</td>\n",
       "      <td>65.010002</td>\n",
       "      <td>5265900</td>\n",
       "      <td>32.952267</td>\n",
       "      <td>33.114679</td>\n",
       "      <td>32.285529</td>\n",
       "      <td>33.114679</td>\n",
       "      <td>269400</td>\n",
       "      <td>1.190853</td>\n",
       "      <td>0</td>\n",
       "      <td>0</td>\n",
       "      <td>0</td>\n",
       "      <td>0</td>\n",
       "    </tr>\n",
       "    <tr>\n",
       "      <th>...</th>\n",
       "      <td>...</td>\n",
       "      <td>...</td>\n",
       "      <td>...</td>\n",
       "      <td>...</td>\n",
       "      <td>...</td>\n",
       "      <td>...</td>\n",
       "      <td>...</td>\n",
       "      <td>...</td>\n",
       "      <td>...</td>\n",
       "      <td>...</td>\n",
       "      <td>...</td>\n",
       "      <td>...</td>\n",
       "      <td>...</td>\n",
       "      <td>...</td>\n",
       "      <td>...</td>\n",
       "    </tr>\n",
       "    <tr>\n",
       "      <th>2007-11-07</th>\n",
       "      <td>82.239998</td>\n",
       "      <td>83.239998</td>\n",
       "      <td>81.330002</td>\n",
       "      <td>83.209999</td>\n",
       "      <td>16512900</td>\n",
       "      <td>44.175499</td>\n",
       "      <td>46.155811</td>\n",
       "      <td>44.149782</td>\n",
       "      <td>46.155811</td>\n",
       "      <td>3870500</td>\n",
       "      <td>-0.953932</td>\n",
       "      <td>0</td>\n",
       "      <td>0</td>\n",
       "      <td>0</td>\n",
       "      <td>0</td>\n",
       "    </tr>\n",
       "    <tr>\n",
       "      <th>2007-11-08</th>\n",
       "      <td>82.230003</td>\n",
       "      <td>83.629997</td>\n",
       "      <td>81.730003</td>\n",
       "      <td>82.430000</td>\n",
       "      <td>17356200</td>\n",
       "      <td>44.064049</td>\n",
       "      <td>45.135645</td>\n",
       "      <td>42.803850</td>\n",
       "      <td>44.149775</td>\n",
       "      <td>3504100</td>\n",
       "      <td>-0.851149</td>\n",
       "      <td>0</td>\n",
       "      <td>0</td>\n",
       "      <td>0</td>\n",
       "      <td>0</td>\n",
       "    </tr>\n",
       "    <tr>\n",
       "      <th>2007-11-09</th>\n",
       "      <td>82.180000</td>\n",
       "      <td>82.629997</td>\n",
       "      <td>81.220001</td>\n",
       "      <td>81.790001</td>\n",
       "      <td>6947800</td>\n",
       "      <td>43.129627</td>\n",
       "      <td>43.944038</td>\n",
       "      <td>42.872441</td>\n",
       "      <td>43.935467</td>\n",
       "      <td>1813000</td>\n",
       "      <td>0.027800</td>\n",
       "      <td>0</td>\n",
       "      <td>0</td>\n",
       "      <td>0</td>\n",
       "      <td>0</td>\n",
       "    </tr>\n",
       "    <tr>\n",
       "      <th>2007-11-12</th>\n",
       "      <td>78.300003</td>\n",
       "      <td>80.440002</td>\n",
       "      <td>78.250000</td>\n",
       "      <td>80.410004</td>\n",
       "      <td>17297000</td>\n",
       "      <td>40.026272</td>\n",
       "      <td>41.972291</td>\n",
       "      <td>39.837673</td>\n",
       "      <td>41.972291</td>\n",
       "      <td>3908400</td>\n",
       "      <td>1.057967</td>\n",
       "      <td>0</td>\n",
       "      <td>0</td>\n",
       "      <td>0</td>\n",
       "      <td>0</td>\n",
       "    </tr>\n",
       "    <tr>\n",
       "      <th>2007-11-13</th>\n",
       "      <td>79.120003</td>\n",
       "      <td>79.930000</td>\n",
       "      <td>77.860001</td>\n",
       "      <td>79.400002</td>\n",
       "      <td>11438200</td>\n",
       "      <td>40.789253</td>\n",
       "      <td>41.166454</td>\n",
       "      <td>40.240593</td>\n",
       "      <td>40.240593</td>\n",
       "      <td>1919300</td>\n",
       "      <td>0.736577</td>\n",
       "      <td>0</td>\n",
       "      <td>0</td>\n",
       "      <td>0</td>\n",
       "      <td>0</td>\n",
       "    </tr>\n",
       "  </tbody>\n",
       "</table>\n",
       "<p>374 rows × 15 columns</p>\n",
       "</div>"
      ]
     },
     "execution_count": 18,
     "metadata": {},
     "output_type": "execute_result"
    }
   ],
   "execution_count": 18
  },
  {
   "metadata": {
    "ExecuteTime": {
     "end_time": "2025-05-04T12:52:14.837587Z",
     "start_time": "2025-05-04T12:52:14.756846Z"
    }
   },
   "cell_type": "code",
   "source": [
    "gold_df.loc[gold_df['zscore'] >= 2, ('positions_gld_short', 'positions_gdx_short')] = [-1, 1] # Short Spread\n",
    "gold_df.loc[gold_df.zscore <= -2, ('positions_gld_long', 'positions_gdx_long')] = [1, -1] # Buy Spread\n",
    "gold_df.loc[gold_df.zscore <= 1, ('positions_gld_short', 'positions_gdx_short')] = 0 # Exit Short Spread\n",
    "gold_df.loc[gold_df.zscore >= -1, ('positions_gld_long', 'positions_gdx_long')] = 0 # Exit Long Spread"
   ],
   "id": "2f44609f2897b104",
   "outputs": [
    {
     "ename": "ValueError",
     "evalue": "Must have equal len keys and value when setting with an iterable",
     "output_type": "error",
     "traceback": [
      "\u001B[1;31m---------------------------------------------------------------------------\u001B[0m",
      "\u001B[1;31mValueError\u001B[0m                                Traceback (most recent call last)",
      "Cell \u001B[1;32mIn[19], line 1\u001B[0m\n\u001B[1;32m----> 1\u001B[0m gold_df\u001B[38;5;241m.\u001B[39mloc[gold_df[\u001B[38;5;124m'\u001B[39m\u001B[38;5;124mzscore\u001B[39m\u001B[38;5;124m'\u001B[39m] \u001B[38;5;241m>\u001B[39m\u001B[38;5;241m=\u001B[39m \u001B[38;5;241m2\u001B[39m, (\u001B[38;5;124m'\u001B[39m\u001B[38;5;124mpositions_gld_short\u001B[39m\u001B[38;5;124m'\u001B[39m, \u001B[38;5;124m'\u001B[39m\u001B[38;5;124mpositions_gdx_short\u001B[39m\u001B[38;5;124m'\u001B[39m)] \u001B[38;5;241m=\u001B[39m [\u001B[38;5;241m-\u001B[39m\u001B[38;5;241m1\u001B[39m, \u001B[38;5;241m1\u001B[39m] \u001B[38;5;66;03m# Short Spread\u001B[39;00m\n\u001B[0;32m      2\u001B[0m gold_df\u001B[38;5;241m.\u001B[39mloc[gold_df\u001B[38;5;241m.\u001B[39mzscore \u001B[38;5;241m<\u001B[39m\u001B[38;5;241m=\u001B[39m \u001B[38;5;241m-\u001B[39m\u001B[38;5;241m2\u001B[39m, (\u001B[38;5;124m'\u001B[39m\u001B[38;5;124mpositions_gld_long\u001B[39m\u001B[38;5;124m'\u001B[39m, \u001B[38;5;124m'\u001B[39m\u001B[38;5;124mpositions_gdx_long\u001B[39m\u001B[38;5;124m'\u001B[39m)] \u001B[38;5;241m=\u001B[39m [\u001B[38;5;241m1\u001B[39m, \u001B[38;5;241m-\u001B[39m\u001B[38;5;241m1\u001B[39m] \u001B[38;5;66;03m# Buy Spread\u001B[39;00m\n\u001B[0;32m      3\u001B[0m gold_df\u001B[38;5;241m.\u001B[39mloc[gold_df\u001B[38;5;241m.\u001B[39mzscore \u001B[38;5;241m<\u001B[39m\u001B[38;5;241m=\u001B[39m \u001B[38;5;241m1\u001B[39m, (\u001B[38;5;124m'\u001B[39m\u001B[38;5;124mpositions_gld_short\u001B[39m\u001B[38;5;124m'\u001B[39m, \u001B[38;5;124m'\u001B[39m\u001B[38;5;124mpositions_gdx_short\u001B[39m\u001B[38;5;124m'\u001B[39m)] \u001B[38;5;241m=\u001B[39m \u001B[38;5;241m0\u001B[39m \u001B[38;5;66;03m# Exit Short Spread\u001B[39;00m\n",
      "File \u001B[1;32m~\\miniconda3\\envs\\energy\\Lib\\site-packages\\pandas\\core\\indexing.py:911\u001B[0m, in \u001B[0;36m_LocationIndexer.__setitem__\u001B[1;34m(self, key, value)\u001B[0m\n\u001B[0;32m    908\u001B[0m \u001B[38;5;28mself\u001B[39m\u001B[38;5;241m.\u001B[39m_has_valid_setitem_indexer(key)\n\u001B[0;32m    910\u001B[0m iloc \u001B[38;5;241m=\u001B[39m \u001B[38;5;28mself\u001B[39m \u001B[38;5;28;01mif\u001B[39;00m \u001B[38;5;28mself\u001B[39m\u001B[38;5;241m.\u001B[39mname \u001B[38;5;241m==\u001B[39m \u001B[38;5;124m\"\u001B[39m\u001B[38;5;124miloc\u001B[39m\u001B[38;5;124m\"\u001B[39m \u001B[38;5;28;01melse\u001B[39;00m \u001B[38;5;28mself\u001B[39m\u001B[38;5;241m.\u001B[39mobj\u001B[38;5;241m.\u001B[39miloc\n\u001B[1;32m--> 911\u001B[0m iloc\u001B[38;5;241m.\u001B[39m_setitem_with_indexer(indexer, value, \u001B[38;5;28mself\u001B[39m\u001B[38;5;241m.\u001B[39mname)\n",
      "File \u001B[1;32m~\\miniconda3\\envs\\energy\\Lib\\site-packages\\pandas\\core\\indexing.py:1942\u001B[0m, in \u001B[0;36m_iLocIndexer._setitem_with_indexer\u001B[1;34m(self, indexer, value, name)\u001B[0m\n\u001B[0;32m   1939\u001B[0m \u001B[38;5;66;03m# align and set the values\u001B[39;00m\n\u001B[0;32m   1940\u001B[0m \u001B[38;5;28;01mif\u001B[39;00m take_split_path:\n\u001B[0;32m   1941\u001B[0m     \u001B[38;5;66;03m# We have to operate column-wise\u001B[39;00m\n\u001B[1;32m-> 1942\u001B[0m     \u001B[38;5;28mself\u001B[39m\u001B[38;5;241m.\u001B[39m_setitem_with_indexer_split_path(indexer, value, name)\n\u001B[0;32m   1943\u001B[0m \u001B[38;5;28;01melse\u001B[39;00m:\n\u001B[0;32m   1944\u001B[0m     \u001B[38;5;28mself\u001B[39m\u001B[38;5;241m.\u001B[39m_setitem_single_block(indexer, value, name)\n",
      "File \u001B[1;32m~\\miniconda3\\envs\\energy\\Lib\\site-packages\\pandas\\core\\indexing.py:1998\u001B[0m, in \u001B[0;36m_iLocIndexer._setitem_with_indexer_split_path\u001B[1;34m(self, indexer, value, name)\u001B[0m\n\u001B[0;32m   1993\u001B[0m     \u001B[38;5;28;01mif\u001B[39;00m \u001B[38;5;28mlen\u001B[39m(value) \u001B[38;5;241m==\u001B[39m \u001B[38;5;241m1\u001B[39m \u001B[38;5;129;01mand\u001B[39;00m \u001B[38;5;129;01mnot\u001B[39;00m is_integer(info_axis):\n\u001B[0;32m   1994\u001B[0m         \u001B[38;5;66;03m# This is a case like df.iloc[:3, [1]] = [0]\u001B[39;00m\n\u001B[0;32m   1995\u001B[0m         \u001B[38;5;66;03m#  where we treat as df.iloc[:3, 1] = 0\u001B[39;00m\n\u001B[0;32m   1996\u001B[0m         \u001B[38;5;28;01mreturn\u001B[39;00m \u001B[38;5;28mself\u001B[39m\u001B[38;5;241m.\u001B[39m_setitem_with_indexer((pi, info_axis[\u001B[38;5;241m0\u001B[39m]), value[\u001B[38;5;241m0\u001B[39m])\n\u001B[1;32m-> 1998\u001B[0m     \u001B[38;5;28;01mraise\u001B[39;00m \u001B[38;5;167;01mValueError\u001B[39;00m(\n\u001B[0;32m   1999\u001B[0m         \u001B[38;5;124m\"\u001B[39m\u001B[38;5;124mMust have equal len keys and value \u001B[39m\u001B[38;5;124m\"\u001B[39m\n\u001B[0;32m   2000\u001B[0m         \u001B[38;5;124m\"\u001B[39m\u001B[38;5;124mwhen setting with an iterable\u001B[39m\u001B[38;5;124m\"\u001B[39m\n\u001B[0;32m   2001\u001B[0m     )\n\u001B[0;32m   2003\u001B[0m \u001B[38;5;28;01melif\u001B[39;00m lplane_indexer \u001B[38;5;241m==\u001B[39m \u001B[38;5;241m0\u001B[39m \u001B[38;5;129;01mand\u001B[39;00m \u001B[38;5;28mlen\u001B[39m(value) \u001B[38;5;241m==\u001B[39m \u001B[38;5;28mlen\u001B[39m(\u001B[38;5;28mself\u001B[39m\u001B[38;5;241m.\u001B[39mobj\u001B[38;5;241m.\u001B[39mindex):\n\u001B[0;32m   2004\u001B[0m     \u001B[38;5;66;03m# We get here in one case via .loc with a all-False mask\u001B[39;00m\n\u001B[0;32m   2005\u001B[0m     \u001B[38;5;28;01mpass\u001B[39;00m\n",
      "\u001B[1;31mValueError\u001B[0m: Must have equal len keys and value when setting with an iterable"
     ]
    }
   ],
   "execution_count": 19
  },
  {
   "metadata": {},
   "cell_type": "code",
   "outputs": [],
   "execution_count": null,
   "source": [
    "gold_df.fillna(method='ffill', inplace = True) # Ensure existing positions are carried forward unless there is an exit signal\n",
    "\n",
    "positions_long = gold_df.loc[:, ('positions_gld_long', 'positions_gdx_long')]\n",
    "positions_short = gold_df.loc[:, ('positions_gld_short', 'positions_gdx_short')]\n",
    "\n",
    "positions = np.array(positions_long) + np.array(positions_short)\n",
    "positions = pd.DataFrame(positions)"
   ],
   "id": "2c734425db6c2e07"
  },
  {
   "metadata": {},
   "cell_type": "code",
   "outputs": [],
   "execution_count": null,
   "source": "",
   "id": "a9dd9e0c85f9e9f7"
  },
  {
   "metadata": {},
   "cell_type": "code",
   "outputs": [],
   "execution_count": null,
   "source": "",
   "id": "153634d73f66cce7"
  },
  {
   "metadata": {},
   "cell_type": "code",
   "outputs": [],
   "execution_count": null,
   "source": "",
   "id": "2528c9d07843a466"
  },
  {
   "metadata": {},
   "cell_type": "code",
   "outputs": [],
   "execution_count": null,
   "source": "",
   "id": "a402da32fc38d2f6"
  }
 ],
 "metadata": {
  "kernelspec": {
   "display_name": "Python 3",
   "language": "python",
   "name": "python3"
  },
  "language_info": {
   "codemirror_mode": {
    "name": "ipython",
    "version": 2
   },
   "file_extension": ".py",
   "mimetype": "text/x-python",
   "name": "python",
   "nbconvert_exporter": "python",
   "pygments_lexer": "ipython2",
   "version": "2.7.6"
  }
 },
 "nbformat": 4,
 "nbformat_minor": 5
}
